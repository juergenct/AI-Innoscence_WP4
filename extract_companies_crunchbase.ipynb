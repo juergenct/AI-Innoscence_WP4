{
 "cells": [
  {
   "cell_type": "code",
   "execution_count": 1,
   "id": "afbb5ad6",
   "metadata": {},
   "outputs": [],
   "source": [
    "import pandas as pd"
   ]
  },
  {
   "cell_type": "code",
   "execution_count": null,
   "id": "379349f2",
   "metadata": {},
   "outputs": [],
   "source": [
    "df_organizations = pd.read_csv('/mnt/hdd02/Projekt_EDV_TEK/CrunchBase Dump TUHH/organizations.csv')"
   ]
  },
  {
   "cell_type": "code",
   "execution_count": null,
   "id": "d2cce3d4",
   "metadata": {},
   "outputs": [
    {
     "data": {
      "text/plain": [
       "Index(['uuid', 'name', 'type', 'permalink', 'cb_url', 'rank', 'created_at',\n",
       "       'updated_at', 'legal_name', 'roles', 'domain', 'homepage_url',\n",
       "       'country_code', 'state_code', 'region', 'city', 'address',\n",
       "       'postal_code', 'status', 'short_description', 'category_list',\n",
       "       'category_groups_list', 'num_funding_rounds', 'total_funding_usd',\n",
       "       'total_funding', 'total_funding_currency_code', 'founded_on',\n",
       "       'last_funding_on', 'closed_on', 'employee_count', 'email', 'phone',\n",
       "       'facebook_url', 'linkedin_url', 'twitter_url', 'logo_url', 'alias1',\n",
       "       'alias2', 'alias3', 'primary_role', 'num_exits'],\n",
       "      dtype='object')"
      ]
     },
     "execution_count": 4,
     "metadata": {},
     "output_type": "execute_result"
    }
   ],
   "source": [
    "df_organizations.columns"
   ]
  },
  {
   "cell_type": "code",
   "execution_count": null,
   "id": "fd0a3f8b",
   "metadata": {},
   "outputs": [],
   "source": [
    "# Filter df_organizations for entries where 'country_code' is 'DEU'\n",
    "df_organizations = df_organizations[df_organizations['country_code'] == \"DEU\"]\n",
    "# Filter df_organizations for entries where 'region' or 'city' is 'Hamburg'\n",
    "df_organizations = df_organizations[df_organizations['country_code'] == \"DEU\"]"
   ]
  },
  {
   "cell_type": "code",
   "execution_count": null,
   "id": "de9065ed",
   "metadata": {},
   "outputs": [],
   "source": [
    "df_organizations.head()"
   ]
  },
  {
   "cell_type": "code",
   "execution_count": null,
   "id": "c0882c7f",
   "metadata": {},
   "outputs": [],
   "source": [
    "len(df_organizations)"
   ]
  },
  {
   "cell_type": "code",
   "execution_count": 16,
   "id": "2fad158e",
   "metadata": {},
   "outputs": [],
   "source": [
    "df_organizations.to_csv('crunchbase_companies_DEU_Hamburg.csv', index=False)"
   ]
  }
 ],
 "metadata": {
  "kernelspec": {
   "display_name": "AI_Innoscence",
   "language": "python",
   "name": "python3"
  },
  "language_info": {
   "codemirror_mode": {
    "name": "ipython",
    "version": 3
   },
   "file_extension": ".py",
   "mimetype": "text/x-python",
   "name": "python",
   "nbconvert_exporter": "python",
   "pygments_lexer": "ipython3",
   "version": "3.11.13"
  }
 },
 "nbformat": 4,
 "nbformat_minor": 5
}
